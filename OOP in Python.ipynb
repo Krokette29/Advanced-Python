{
 "cells": [
  {
   "cell_type": "markdown",
   "metadata": {},
   "source": [
    "# 1. Class and Instance"
   ]
  },
  {
   "cell_type": "code",
   "execution_count": 1,
   "metadata": {},
   "outputs": [
    {
     "data": {
      "text/plain": [
       "<__main__.Student at 0x25cb6bd55c0>"
      ]
     },
     "execution_count": 1,
     "metadata": {},
     "output_type": "execute_result"
    }
   ],
   "source": [
    "# create a class of Student, default inhereted from \"object\"\n",
    "class Student(object):\n",
    "    pass\n",
    "\n",
    "# create an instance\n",
    "bart = Student()\n",
    "bart"
   ]
  },
  {
   "cell_type": "code",
   "execution_count": 2,
   "metadata": {},
   "outputs": [
    {
     "data": {
      "text/plain": [
       "'Jack'"
      ]
     },
     "execution_count": 2,
     "metadata": {},
     "output_type": "execute_result"
    }
   ],
   "source": [
    "# attributes can be freely added to an instance\n",
    "bart.name = \"Jack\"\n",
    "bart.name"
   ]
  },
  {
   "cell_type": "code",
   "execution_count": 3,
   "metadata": {},
   "outputs": [
    {
     "name": "stdout",
     "output_type": "stream",
     "text": [
      "Jack\n",
      "100\n"
     ]
    }
   ],
   "source": [
    "# add __init__ function/method to class\n",
    "class Student(object):\n",
    "    # the first argument of methods in a class is always 'self'\n",
    "    def __init__(self, name, score):\n",
    "        self.name = name\n",
    "        self.score = score\n",
    "        \n",
    "# create an instance with parameters\n",
    "bart = Student('Jack', 100)\n",
    "print(bart.name)\n",
    "print(bart.score)"
   ]
  },
  {
   "cell_type": "code",
   "execution_count": 4,
   "metadata": {},
   "outputs": [
    {
     "name": "stdout",
     "output_type": "stream",
     "text": [
      "Jack: 100\n"
     ]
    }
   ],
   "source": [
    "# add print_score method to class\n",
    "class Student(object):\n",
    "    def __init__(self, name, score):\n",
    "        self.name = name\n",
    "        self.score = score\n",
    "        \n",
    "    def print_score(self):\n",
    "        print(\"%s: %s\" % (self.name, self.score))\n",
    "   \n",
    "bart = Student('Jack', 100)\n",
    "bart.print_score()"
   ]
  },
  {
   "cell_type": "markdown",
   "metadata": {},
   "source": [
    "# 2. Visit Restriction"
   ]
  },
  {
   "cell_type": "code",
   "execution_count": 5,
   "metadata": {},
   "outputs": [
    {
     "name": "stdout",
     "output_type": "stream",
     "text": [
      "bart has no '__name' !\n"
     ]
    }
   ],
   "source": [
    "# add two '_' before an attribute name to make it private\n",
    "# __name is actually changed to _Student__name\n",
    "# in this case the attributes cannot be easily got/changed\n",
    "class Student(object):\n",
    "    def __init__(self, name, score):\n",
    "        self.__name = name\n",
    "        self.__score = score\n",
    "        \n",
    "    def print_score(self):\n",
    "        print(\"%s: %s\" % (self.name, self.score))\n",
    "        \n",
    "# return error when visit the values of private attributes\n",
    "bart = Student(\"Jack\", 100)\n",
    "try:\n",
    "    bart.__name\n",
    "except:\n",
    "    print('bart has no \\'__name\\' !')"
   ]
  },
  {
   "cell_type": "code",
   "execution_count": 6,
   "metadata": {},
   "outputs": [
    {
     "name": "stdout",
     "output_type": "stream",
     "text": [
      "98\n"
     ]
    },
    {
     "ename": "ValueError",
     "evalue": "bad score",
     "output_type": "error",
     "traceback": [
      "\u001b[1;31m---------------------------------------------------------------------------\u001b[0m",
      "\u001b[1;31mValueError\u001b[0m                                Traceback (most recent call last)",
      "\u001b[1;32m<ipython-input-6-0df118806660>\u001b[0m in \u001b[0;36m<module>\u001b[1;34m\u001b[0m\n\u001b[0;32m     29\u001b[0m \u001b[1;33m\u001b[0m\u001b[0m\n\u001b[0;32m     30\u001b[0m \u001b[1;31m# raise error when input an invalid value\u001b[0m\u001b[1;33m\u001b[0m\u001b[1;33m\u001b[0m\u001b[1;33m\u001b[0m\u001b[0m\n\u001b[1;32m---> 31\u001b[1;33m \u001b[0mbart\u001b[0m\u001b[1;33m.\u001b[0m\u001b[0mset_score\u001b[0m\u001b[1;33m(\u001b[0m\u001b[1;33m-\u001b[0m\u001b[1;36m2\u001b[0m\u001b[1;33m)\u001b[0m\u001b[1;33m\u001b[0m\u001b[1;33m\u001b[0m\u001b[0m\n\u001b[0m",
      "\u001b[1;32m<ipython-input-6-0df118806660>\u001b[0m in \u001b[0;36mset_score\u001b[1;34m(self, score)\u001b[0m\n\u001b[0;32m     19\u001b[0m             \u001b[0mself\u001b[0m\u001b[1;33m.\u001b[0m\u001b[0m__score\u001b[0m \u001b[1;33m=\u001b[0m \u001b[0mscore\u001b[0m\u001b[1;33m\u001b[0m\u001b[1;33m\u001b[0m\u001b[0m\n\u001b[0;32m     20\u001b[0m         \u001b[1;32melse\u001b[0m\u001b[1;33m:\u001b[0m\u001b[1;33m\u001b[0m\u001b[1;33m\u001b[0m\u001b[0m\n\u001b[1;32m---> 21\u001b[1;33m             \u001b[1;32mraise\u001b[0m \u001b[0mValueError\u001b[0m\u001b[1;33m(\u001b[0m\u001b[1;34m'bad score'\u001b[0m\u001b[1;33m)\u001b[0m\u001b[1;33m\u001b[0m\u001b[1;33m\u001b[0m\u001b[0m\n\u001b[0m\u001b[0;32m     22\u001b[0m \u001b[1;33m\u001b[0m\u001b[0m\n\u001b[0;32m     23\u001b[0m     \u001b[1;32mdef\u001b[0m \u001b[0mprint_score\u001b[0m\u001b[1;33m(\u001b[0m\u001b[0mself\u001b[0m\u001b[1;33m)\u001b[0m\u001b[1;33m:\u001b[0m\u001b[1;33m\u001b[0m\u001b[1;33m\u001b[0m\u001b[0m\n",
      "\u001b[1;31mValueError\u001b[0m: bad score"
     ]
    }
   ],
   "source": [
    "# use get and set to visit the private attributes\n",
    "class Student(object):\n",
    "    def __init__(self, name, score):\n",
    "        self.__name = name\n",
    "        self.__score = score\n",
    "        \n",
    "    def get_name(self):\n",
    "        return self.__name\n",
    "    \n",
    "    def get_score(self):\n",
    "        return self.__score\n",
    "    \n",
    "    def set_name(self, name):\n",
    "        self.__name = name\n",
    "        \n",
    "    # raise error when input an invalid value, increase code safety\n",
    "    def set_score(self, score):\n",
    "        if score >= 0 and score <= 100:\n",
    "            self.__score = score\n",
    "        else:\n",
    "            raise ValueError('bad score')\n",
    "        \n",
    "    def print_score(self):\n",
    "        print(\"%s: %s\" % (self.name, self.score))\n",
    "        \n",
    "bart = Student(\"Jack\", 100)\n",
    "bart.set_score(98)\n",
    "print(bart.get_score())\n",
    "\n",
    "# raise error when input an invalid value\n",
    "bart.set_score(-2)"
   ]
  },
  {
   "cell_type": "code",
   "execution_count": 7,
   "metadata": {},
   "outputs": [
    {
     "data": {
      "text/plain": [
       "'Jack'"
      ]
     },
     "execution_count": 7,
     "metadata": {},
     "output_type": "execute_result"
    }
   ],
   "source": [
    "# when see an attribue name with one '_' ahead,\n",
    "# this means this attribute can be visited,\n",
    "# but please treat me as private\n",
    "\n",
    "# acctually we can still visit the private attribute,\n",
    "# but DO NOT do this\n",
    "bart._Student__name"
   ]
  },
  {
   "cell_type": "markdown",
   "metadata": {},
   "source": [
    "# 3. Inheritance and Polymorphism"
   ]
  },
  {
   "cell_type": "code",
   "execution_count": 8,
   "metadata": {},
   "outputs": [
    {
     "name": "stdout",
     "output_type": "stream",
     "text": [
      "running ...\n"
     ]
    }
   ],
   "source": [
    "# create a super class\n",
    "class Animal(object):\n",
    "    def run(self):\n",
    "        print('running ...')\n",
    "        \n",
    "# create a subclass\n",
    "class Dog(Animal):\n",
    "    pass\n",
    "\n",
    "# a subclass can be inhereted from the super class\n",
    "little_dog = Dog()\n",
    "little_dog.run()"
   ]
  },
  {
   "cell_type": "code",
   "execution_count": 9,
   "metadata": {},
   "outputs": [
    {
     "name": "stdout",
     "output_type": "stream",
     "text": [
      "Dog running ...\n"
     ]
    }
   ],
   "source": [
    "# methods in subclass can cover methods in super class\n",
    "class Dog(Animal):\n",
    "    def run(self):\n",
    "        print('Dog running ...')\n",
    "        \n",
    "little_dog = Dog()\n",
    "little_dog.run()"
   ]
  },
  {
   "cell_type": "code",
   "execution_count": 10,
   "metadata": {},
   "outputs": [
    {
     "name": "stdout",
     "output_type": "stream",
     "text": [
      "True\n",
      "True\n"
     ]
    }
   ],
   "source": [
    "# use 'isinstance' to make a type decision\n",
    "little_dog = Dog()\n",
    "print(isinstance(little_dog, Dog))\n",
    "\n",
    "# a Dog class is also an Animal class\n",
    "print(isinstance(little_dog, Animal))"
   ]
  },
  {
   "cell_type": "code",
   "execution_count": 11,
   "metadata": {},
   "outputs": [
    {
     "name": "stdout",
     "output_type": "stream",
     "text": [
      "Dog running ...\n",
      "Dog running ...\n",
      "Cat running ...\n",
      "Cat running ...\n"
     ]
    }
   ],
   "source": [
    "# the advantage of polymorphism:\n",
    "# we don't need to change the base function\n",
    "def run_twice(animal):\n",
    "    animal.run()\n",
    "    animal.run()\n",
    "\n",
    "run_twice(Dog())\n",
    "\n",
    "# create a new class\n",
    "class Cat(Animal):\n",
    "    def run(self):\n",
    "        print('Cat running ...')\n",
    "\n",
    "# the function still works\n",
    "run_twice(Cat())"
   ]
  },
  {
   "cell_type": "code",
   "execution_count": 12,
   "metadata": {},
   "outputs": [
    {
     "name": "stdout",
     "output_type": "stream",
     "text": [
      "Timer running ...\n",
      "Timer running ...\n"
     ]
    }
   ],
   "source": [
    "# because Python is a dynamic language,\n",
    "# we can use the function to a class which is not inhereted from Animal\n",
    "class Timer(object):\n",
    "    def run(self):\n",
    "        print('Timer running ...')\n",
    "        \n",
    "run_twice(Timer())"
   ]
  },
  {
   "cell_type": "markdown",
   "metadata": {},
   "source": [
    "# 4. Get Object Information"
   ]
  },
  {
   "cell_type": "code",
   "execution_count": 13,
   "metadata": {},
   "outputs": [
    {
     "name": "stdout",
     "output_type": "stream",
     "text": [
      "<class 'type'>\n",
      "<class '__main__.Animal'>\n"
     ]
    }
   ],
   "source": [
    "# use type() to check the tpye\n",
    "print(type(Animal))\n",
    "print(type(Animal()))"
   ]
  },
  {
   "cell_type": "code",
   "execution_count": 14,
   "metadata": {},
   "outputs": [
    {
     "name": "stdout",
     "output_type": "stream",
     "text": [
      "True\n",
      "True\n",
      "True\n",
      "True\n"
     ]
    }
   ],
   "source": [
    "# use package 'types' to check whether an object is a certain type of function\n",
    "import types\n",
    "def foo():\n",
    "    pass\n",
    "\n",
    "print(type(foo) == types.FunctionType)\n",
    "print(type(abs) == types.BuiltinFunctionType)\n",
    "print(type(lambda x: x) == types.LambdaType)\n",
    "print(type((x for x in range(10))) == types.GeneratorType)"
   ]
  },
  {
   "cell_type": "code",
   "execution_count": 15,
   "metadata": {},
   "outputs": [
    {
     "name": "stdout",
     "output_type": "stream",
     "text": [
      "True\n",
      "True\n",
      "False\n"
     ]
    }
   ],
   "source": [
    "# use isinstance() to check the certain type of a class\n",
    "# type() cannot do this\n",
    "print(isinstance(Dog(), Dog))\n",
    "print(isinstance(Dog(), Animal))\n",
    "print(isinstance(Animal(), Dog))"
   ]
  },
  {
   "cell_type": "code",
   "execution_count": 16,
   "metadata": {},
   "outputs": [
    {
     "data": {
      "text/plain": [
       "True"
      ]
     },
     "execution_count": 16,
     "metadata": {},
     "output_type": "execute_result"
    }
   ],
   "source": [
    "# or use instance() to check whether a class belong to one of the options\n",
    "isinstance(Cat(), (Dog, Cat, Animal))"
   ]
  },
  {
   "cell_type": "code",
   "execution_count": 17,
   "metadata": {},
   "outputs": [
    {
     "data": {
      "text/plain": [
       "['__class__',\n",
       " '__delattr__',\n",
       " '__dict__',\n",
       " '__dir__',\n",
       " '__doc__',\n",
       " '__eq__',\n",
       " '__format__',\n",
       " '__ge__',\n",
       " '__getattribute__',\n",
       " '__gt__',\n",
       " '__hash__',\n",
       " '__init__',\n",
       " '__init_subclass__',\n",
       " '__le__',\n",
       " '__lt__',\n",
       " '__module__',\n",
       " '__ne__',\n",
       " '__new__',\n",
       " '__reduce__',\n",
       " '__reduce_ex__',\n",
       " '__repr__',\n",
       " '__setattr__',\n",
       " '__sizeof__',\n",
       " '__str__',\n",
       " '__subclasshook__',\n",
       " '__weakref__',\n",
       " 'run']"
      ]
     },
     "execution_count": 17,
     "metadata": {},
     "output_type": "execute_result"
    }
   ],
   "source": [
    "# use dir() to acquire all the attributes and mthods of an object\n",
    "dir(Dog())\n",
    "\n",
    "# all attribtes with two '_' ahead and at the end can be visited\n",
    "# they are special attributes"
   ]
  },
  {
   "cell_type": "code",
   "execution_count": 18,
   "metadata": {},
   "outputs": [
    {
     "name": "stdout",
     "output_type": "stream",
     "text": [
      "True\n",
      "9\n",
      "False\n",
      "19\n",
      "\n",
      "True\n",
      "<bound method MyObject.double of <__main__.MyObject object at 0x0000025CB6C8A4A8>>\n",
      "<bound method MyObject.double of <__main__.MyObject object at 0x0000025CB6C8A4A8>>\n",
      "18\n"
     ]
    }
   ],
   "source": [
    "# ues getattr(), setattr(), hasattr() to get/set/decide the attribute\n",
    "class MyObject(object):\n",
    "    def __init__(self):\n",
    "        self.x = 9\n",
    "        self.__multiplier = 2\n",
    "    \n",
    "    def double(self):\n",
    "        return self.x * self.__multiplier\n",
    "    \n",
    "obj = MyObject()\n",
    "\n",
    "# test of hasattr()\n",
    "# when we know the attribute, directly use obj.attr\n",
    "# hasattr() can be used as a decision condition\n",
    "print(hasattr(obj, 'x'))\n",
    "print(obj.x)\n",
    "print(hasattr(obj, 'y'))\n",
    "setattr(obj, 'y', 19)\n",
    "print(obj.y)\n",
    "print('')\n",
    "\n",
    "print(hasattr(obj, 'double'))\n",
    "print(getattr(obj, 'double'))\n",
    "# fn points to obj.double, so fn() can be called\n",
    "fn = getattr(obj, 'double')\n",
    "print(fn)\n",
    "print(fn())"
   ]
  },
  {
   "cell_type": "code",
   "execution_count": 19,
   "metadata": {},
   "outputs": [
    {
     "name": "stdout",
     "output_type": "stream",
     "text": [
      "obj has no '__multiplier' !\n"
     ]
    }
   ],
   "source": [
    "# again, a private attribute cannot be visited\n",
    "# because it has been changed to _MyObject__multiplier\n",
    "try:\n",
    "    print(getattr(obj, '__multiplier'))\n",
    "except:\n",
    "    print(\"obj has no \\'__multiplier\\' !\")"
   ]
  },
  {
   "cell_type": "code",
   "execution_count": 20,
   "metadata": {},
   "outputs": [
    {
     "data": {
      "text/plain": [
       "404"
      ]
     },
     "execution_count": 20,
     "metadata": {},
     "output_type": "execute_result"
    }
   ],
   "source": [
    "# set a default value to return, when come across with an attribute which is not exist\n",
    "getattr(obj, 'k', 404)"
   ]
  },
  {
   "cell_type": "markdown",
   "metadata": {},
   "source": [
    "# 5. Instance Attibutes and Class Attributes"
   ]
  },
  {
   "cell_type": "code",
   "execution_count": 21,
   "metadata": {},
   "outputs": [
    {
     "name": "stdout",
     "output_type": "stream",
     "text": [
      "jack\n",
      "Student\n",
      "\n",
      "Student\n"
     ]
    }
   ],
   "source": [
    "class Student(object):\n",
    "    name = 'Student' # class attribute\n",
    "    def __init__(self):\n",
    "        self.name = 'jack' # instance attribute\n",
    "        \n",
    "jack = Student()\n",
    "print(jack.name)\n",
    "print(Student.name)\n",
    "print('')\n",
    "\n",
    "# when instance attribute doesn't exit,\n",
    "# the interpreter will search for the class attribute\n",
    "# so don't set the same attributes name for both class and instance\n",
    "del jack.name\n",
    "print(jack.name)"
   ]
  },
  {
   "cell_type": "markdown",
   "metadata": {},
   "source": [
    "# 6. slots"
   ]
  },
  {
   "cell_type": "code",
   "execution_count": 22,
   "metadata": {},
   "outputs": [
    {
     "name": "stdout",
     "output_type": "stream",
     "text": [
      "jack is 24 years old.\n",
      "adding a score is not allowed!\n"
     ]
    }
   ],
   "source": [
    "# use __slots__ to restrict the attributes\n",
    "class Student(object):\n",
    "    # use tuple to set the allowed attribtes\n",
    "    __slots__ = ('name', 'age')\n",
    "    \n",
    "s = Student()\n",
    "s.name = 'jack'\n",
    "s.age = 24\n",
    "print(\"%s is %s years old.\" % (s.name, s.age))\n",
    "\n",
    "# raise error when an not allowed attribute is added\n",
    "try:\n",
    "    s.score = 100\n",
    "except:\n",
    "    print(\"adding a score is not allowed!\")"
   ]
  },
  {
   "cell_type": "code",
   "execution_count": 23,
   "metadata": {},
   "outputs": [
    {
     "name": "stdout",
     "output_type": "stream",
     "text": [
      "100\n",
      "adding a score is not allowed!\n"
     ]
    }
   ],
   "source": [
    "# __slots__ is only valid for current object, not valid for subclass\n",
    "class GraduateStudent(Student):\n",
    "    pass\n",
    "\n",
    "g = GraduateStudent()\n",
    "g.score = 100\n",
    "print(g.score)\n",
    "\n",
    "# but when __slots__ exist in a subclass, then it contains the __slots__ of it's super class\n",
    "class TestStudent(Student):\n",
    "    __slots__ = ('gender')\n",
    "    \n",
    "t = TestStudent()\n",
    "try:\n",
    "    t.score = 100\n",
    "    print(t.score)\n",
    "except:\n",
    "    print(\"adding a score is not allowed!\")"
   ]
  },
  {
   "cell_type": "markdown",
   "metadata": {},
   "source": [
    "# 7. @property"
   ]
  },
  {
   "cell_type": "code",
   "execution_count": 24,
   "metadata": {},
   "outputs": [
    {
     "name": "stdout",
     "output_type": "stream",
     "text": [
      "60\n"
     ]
    },
    {
     "ename": "ValueError",
     "evalue": "score must between 0-100!",
     "output_type": "error",
     "traceback": [
      "\u001b[1;31m---------------------------------------------------------------------------\u001b[0m",
      "\u001b[1;31mValueError\u001b[0m                                Traceback (most recent call last)",
      "\u001b[1;32m<ipython-input-24-d9451859cd6b>\u001b[0m in \u001b[0;36m<module>\u001b[1;34m\u001b[0m\n\u001b[0;32m     19\u001b[0m \u001b[0mprint\u001b[0m\u001b[1;33m(\u001b[0m\u001b[0ms\u001b[0m\u001b[1;33m.\u001b[0m\u001b[0mscore\u001b[0m\u001b[1;33m)\u001b[0m\u001b[1;33m\u001b[0m\u001b[1;33m\u001b[0m\u001b[0m\n\u001b[0;32m     20\u001b[0m \u001b[1;33m\u001b[0m\u001b[0m\n\u001b[1;32m---> 21\u001b[1;33m \u001b[0ms\u001b[0m\u001b[1;33m.\u001b[0m\u001b[0mscore\u001b[0m \u001b[1;33m=\u001b[0m \u001b[1;36m999\u001b[0m\u001b[1;33m\u001b[0m\u001b[1;33m\u001b[0m\u001b[0m\n\u001b[0m",
      "\u001b[1;32m<ipython-input-24-d9451859cd6b>\u001b[0m in \u001b[0;36mscore\u001b[1;34m(self, value)\u001b[0m\n\u001b[0;32m     12\u001b[0m             \u001b[1;32mraise\u001b[0m \u001b[0mValueError\u001b[0m\u001b[1;33m(\u001b[0m\u001b[1;34m'score must be an integer!'\u001b[0m\u001b[1;33m)\u001b[0m\u001b[1;33m\u001b[0m\u001b[1;33m\u001b[0m\u001b[0m\n\u001b[0;32m     13\u001b[0m         \u001b[1;32mif\u001b[0m \u001b[0mvalue\u001b[0m \u001b[1;33m<\u001b[0m \u001b[1;36m0\u001b[0m \u001b[1;32mor\u001b[0m \u001b[0mvalue\u001b[0m \u001b[1;33m>\u001b[0m \u001b[1;36m100\u001b[0m\u001b[1;33m:\u001b[0m\u001b[1;33m\u001b[0m\u001b[1;33m\u001b[0m\u001b[0m\n\u001b[1;32m---> 14\u001b[1;33m             \u001b[1;32mraise\u001b[0m \u001b[0mValueError\u001b[0m\u001b[1;33m(\u001b[0m\u001b[1;34m'score must between 0-100!'\u001b[0m\u001b[1;33m)\u001b[0m\u001b[1;33m\u001b[0m\u001b[1;33m\u001b[0m\u001b[0m\n\u001b[0m\u001b[0;32m     15\u001b[0m         \u001b[0mself\u001b[0m\u001b[1;33m.\u001b[0m\u001b[0m_score\u001b[0m \u001b[1;33m=\u001b[0m \u001b[0mvalue\u001b[0m\u001b[1;33m\u001b[0m\u001b[1;33m\u001b[0m\u001b[0m\n\u001b[0;32m     16\u001b[0m \u001b[1;33m\u001b[0m\u001b[0m\n",
      "\u001b[1;31mValueError\u001b[0m: score must between 0-100!"
     ]
    }
   ],
   "source": [
    "# use @property decorator to make a method into an attribue\n",
    "class Student(object):\n",
    "    # method \"getter\" can be easily decorated as an attribute using @property\n",
    "    @property\n",
    "    def score(self):\n",
    "        return self._score\n",
    "    \n",
    "    # meanwhile @property creates another decorator @score.setter\n",
    "    @score.setter\n",
    "    def score(self, value):\n",
    "        if not isinstance(value, int):\n",
    "            raise ValueError('score must be an integer!')\n",
    "        if value < 0 or value > 100:\n",
    "            raise ValueError('score must between 0-100!')\n",
    "        self._score = value\n",
    "        \n",
    "s = Student()\n",
    "s.score = 60\n",
    "print(s.score)\n",
    "\n",
    "s.score = 999"
   ]
  },
  {
   "cell_type": "code",
   "execution_count": 25,
   "metadata": {},
   "outputs": [
    {
     "data": {
      "text/plain": [
       "24"
      ]
     },
     "execution_count": 25,
     "metadata": {},
     "output_type": "execute_result"
    }
   ],
   "source": [
    "# define a readonly attribute when only method \"getter\" is defined\n",
    "class Student(object):\n",
    "    @property\n",
    "    def birth(self):\n",
    "        return self._birth\n",
    "    \n",
    "    @birth.setter\n",
    "    def birth(self, value):\n",
    "        self._birth = value\n",
    "        \n",
    "    # readonly attribute/property\n",
    "    @property\n",
    "    def age(self):\n",
    "        return 2019 - self._birth\n",
    "    \n",
    "s = Student()\n",
    "s.birth = 1995\n",
    "s.age"
   ]
  },
  {
   "cell_type": "code",
   "execution_count": 26,
   "metadata": {},
   "outputs": [
    {
     "name": "stdout",
     "output_type": "stream",
     "text": [
      "Width: 1920 \n",
      "Height: 1080 \n",
      "Resolution: 2073600 \n"
     ]
    }
   ],
   "source": [
    "# small project:\n",
    "# create a class \"Screen\" with attributes \"width\" and \"height\" and a readonly attribute \"resolution\"\n",
    "class Screen(object):    \n",
    "    '''Attributes'''\n",
    "    @property\n",
    "    def width(self):\n",
    "        return self._width\n",
    "    @width.setter\n",
    "    def width(self, value):\n",
    "        self.__ValueDetection(value)\n",
    "        self._width = value\n",
    "        \n",
    "    @property\n",
    "    def height(self):\n",
    "        return self._height\n",
    "    @height.setter\n",
    "    def height(self, value):\n",
    "        self.__ValueDetection(value)\n",
    "        self._height = value\n",
    "    \n",
    "    # readonly resolution\n",
    "    @property\n",
    "    def resolution(self):\n",
    "        self._resolution = self._width * self._height\n",
    "        return self._resolution\n",
    "    \n",
    "    '''Methods'''\n",
    "    def __init__(self, width, height):\n",
    "        self.__ValueDetection(width, height)\n",
    "        self._width = width\n",
    "        self._height = height\n",
    "        \n",
    "    def DisplayProperties(self):\n",
    "        print(\"Width: %s \\nHeight: %s \\nResolution: %s \" % (self._width, self._height, self.resolution))\n",
    "        \n",
    "    def __ValueDetection(self, *value):\n",
    "        for v in value:\n",
    "            if v < 0:\n",
    "                raise ValueError(\"value must be positive!\")\n",
    "            if not isinstance(v, int):\n",
    "                raise ValueError(\"value must be integer!\")\n",
    "                \n",
    "        \n",
    "s = Screen(1920, 1080)\n",
    "s.DisplayProperties()"
   ]
  },
  {
   "cell_type": "markdown",
   "metadata": {},
   "source": [
    "# 8. Multiple Inheritance"
   ]
  },
  {
   "cell_type": "code",
   "execution_count": 27,
   "metadata": {},
   "outputs": [
    {
     "name": "stdout",
     "output_type": "stream",
     "text": [
      "I'm a student.\n"
     ]
    }
   ],
   "source": [
    "# subclass can be inhereted from different super classes\n",
    "# this is called \"MixIn\"\n",
    "class People(object):    \n",
    "    def __init__(self, name, age):\n",
    "        self._name = name\n",
    "        self._age = age\n",
    "    \n",
    "class Student(object):    \n",
    "    # this __init__ will be covered\n",
    "    def __init__(self, score=100):\n",
    "        self._score = score\n",
    "        \n",
    "    def printInfo(self):\n",
    "        print(\"I'm a student.\")\n",
    "        \n",
    "class GraduateStudent(People, Student):\n",
    "    pass\n",
    "\n",
    "g = GraduateStudent('Jack', 23)\n",
    "g.printInfo()"
   ]
  },
  {
   "cell_type": "markdown",
   "metadata": {},
   "source": [
    "# 9. Customize Class"
   ]
  },
  {
   "cell_type": "code",
   "execution_count": 28,
   "metadata": {},
   "outputs": [
    {
     "name": "stdout",
     "output_type": "stream",
     "text": [
      "Student's name is Jack \n"
     ]
    },
    {
     "data": {
      "text/plain": [
       "<__main__.Student at 0x25cb6c8a6d8>"
      ]
     },
     "execution_count": 28,
     "metadata": {},
     "output_type": "execute_result"
    }
   ],
   "source": [
    "# __str__\n",
    "# change the output of \"print\" of a class\n",
    "class Student(object):\n",
    "    def __init__(self, name):\n",
    "        self._name = name\n",
    "    def __str__(self):\n",
    "        return \"Student's name is %s \" % self._name\n",
    "    \n",
    "print(Student(\"Jack\"))\n",
    "\n",
    "# but don't change the information when directly output\n",
    "Student(\"Jack\")"
   ]
  },
  {
   "cell_type": "code",
   "execution_count": 29,
   "metadata": {},
   "outputs": [
    {
     "name": "stdout",
     "output_type": "stream",
     "text": [
      "Student's name is Jack \n"
     ]
    },
    {
     "data": {
      "text/plain": [
       "Student's name is Jack "
      ]
     },
     "execution_count": 29,
     "metadata": {},
     "output_type": "execute_result"
    }
   ],
   "source": [
    "# __repr__\n",
    "# change the information of direct output of a class\n",
    "class Student(object):\n",
    "    def __init__(self, name):\n",
    "        self._name = name\n",
    "    def __str__(self):\n",
    "        return \"Student's name is %s \" % self._name\n",
    "    __repr__ = __str__\n",
    "    \n",
    "print(Student(\"Jack\"))\n",
    "Student(\"Jack\")"
   ]
  },
  {
   "cell_type": "code",
   "execution_count": 30,
   "metadata": {},
   "outputs": [
    {
     "name": "stdout",
     "output_type": "stream",
     "text": [
      "1\n",
      "1\n",
      "2\n",
      "3\n",
      "5\n",
      "8\n",
      "13\n",
      "21\n",
      "34\n",
      "55\n",
      "89\n",
      "144\n",
      "233\n",
      "377\n",
      "610\n",
      "987\n",
      "1597\n",
      "2584\n",
      "4181\n",
      "6765\n"
     ]
    }
   ],
   "source": [
    "# __iter__ and __next__\n",
    "# make a for ... in loop\n",
    "class Fib(object):\n",
    "    def __init__(self):\n",
    "        self.a, self.b = 0, 1\n",
    "        \n",
    "    # __iter__ return the iteration object\n",
    "    def __iter__(self):\n",
    "        return self\n",
    "    \n",
    "    # __next__ is called by for loop for every iteration until StopIteration()\n",
    "    def __next__(self):\n",
    "        self.a, self.b = self.b, self.a + self.b\n",
    "        if self.a > 10000:\n",
    "            raise StopIteration()\n",
    "        return self.a\n",
    "    \n",
    "for n in Fib():\n",
    "    print(n)"
   ]
  },
  {
   "cell_type": "code",
   "execution_count": 31,
   "metadata": {},
   "outputs": [
    {
     "data": {
      "text/plain": [
       "55"
      ]
     },
     "execution_count": 31,
     "metadata": {},
     "output_type": "execute_result"
    }
   ],
   "source": [
    "# __getitem__\n",
    "# make a class like a list\n",
    "class Fib(object):    \n",
    "    def __getitem__(self, n):\n",
    "        a, b = 0, 1\n",
    "        for x in range(n):\n",
    "            a, b = b, a+b\n",
    "        return a\n",
    "    \n",
    "f = Fib()\n",
    "f[10]"
   ]
  },
  {
   "cell_type": "code",
   "execution_count": 32,
   "metadata": {},
   "outputs": [
    {
     "name": "stdout",
     "output_type": "stream",
     "text": [
      "test\n",
      "test\n"
     ]
    }
   ],
   "source": [
    "# __getattr__\n",
    "# when there is no certain attributes, __getattr__() will be called\n",
    "class Test(object):\n",
    "    def __getattr__(self, value):\n",
    "        return \"test\"\n",
    "    \n",
    "print(getattr(Test(), 'abc'))\n",
    "print(Test().abc)"
   ]
  },
  {
   "cell_type": "code",
   "execution_count": 33,
   "metadata": {},
   "outputs": [
    {
     "data": {
      "text/plain": [
       "/users/Jack/repos/items"
      ]
     },
     "execution_count": 33,
     "metadata": {},
     "output_type": "execute_result"
    }
   ],
   "source": [
    "# another practicle example of __getattr__, which is ChainCall\n",
    "class Chain(object):\n",
    "    def __init__(self, path='/users'):\n",
    "        self._path = path\n",
    "    def __getattr__(self, path):\n",
    "        return Chain('%s/%s' % (self._path, path))\n",
    "    def users(self, name):\n",
    "        return Chain('%s/%s' % (self._path, name))\n",
    "    def __str__(self):\n",
    "        return self._path\n",
    "    __repr__ = __str__\n",
    "    \n",
    "Chain().users('Jack').repos.items"
   ]
  },
  {
   "cell_type": "code",
   "execution_count": 34,
   "metadata": {},
   "outputs": [
    {
     "name": "stdout",
     "output_type": "stream",
     "text": [
      "My name is Jack. I'm 23 years old. \n",
      "True\n"
     ]
    }
   ],
   "source": [
    "# __call__\n",
    "# directly call a class\n",
    "class Student(object):\n",
    "    def __init__(self, name):\n",
    "        self.name = name\n",
    "    def __call__(self, age):\n",
    "        print(\"My name is %s. I'm %s years old. \" % (self.name, age))\n",
    "        \n",
    "s = Student(\"Jack\")\n",
    "s(23)\n",
    "\n",
    "# use callable() to detect whether a class can be called or not\n",
    "print(callable(s))"
   ]
  },
  {
   "cell_type": "markdown",
   "metadata": {},
   "source": [
    "# 10. Enumeration Class"
   ]
  },
  {
   "cell_type": "code",
   "execution_count": 35,
   "metadata": {},
   "outputs": [
    {
     "name": "stdout",
     "output_type": "stream",
     "text": [
      "Today is Dec, the 12 month of a year.\n",
      "Jan => Month.Jan , 1\n",
      "Feb => Month.Feb , 2\n",
      "Mar => Month.Mar , 3\n",
      "Apr => Month.Apr , 4\n",
      "May => Month.May , 5\n",
      "Jun => Month.Jun , 6\n",
      "Jul => Month.Jul , 7\n",
      "Aug => Month.Aug , 8\n",
      "Sep => Month.Sep , 9\n",
      "Oct => Month.Oct , 10\n",
      "Nov => Month.Nov , 11\n",
      "Dec => Month.Dec , 12\n"
     ]
    }
   ],
   "source": [
    "# use Enum to make an enumeration class, mostly used for creating a class of constants\n",
    "from enum import Enum\n",
    "\n",
    "Month = Enum('Month', ('Jan', 'Feb', 'Mar', 'Apr', 'May', 'Jun', \n",
    "                       'Jul', 'Aug', 'Sep', 'Oct', 'Nov', 'Dec'))\n",
    "\n",
    "# values will be automatically allocated to the members from 1\n",
    "print(\"Today is %s, the %s month of a year.\" % (Month.Dec.name, Month.Dec.value))\n",
    "\n",
    "# iterate over the enumeration class\n",
    "for name, member in Month.__members__.items():\n",
    "    print(name, '=>', member, ',', member.value)"
   ]
  },
  {
   "cell_type": "code",
   "execution_count": 36,
   "metadata": {},
   "outputs": [
    {
     "name": "stdout",
     "output_type": "stream",
     "text": [
      "Weekday.Mon\n",
      "Weekday.Mon\n",
      "1\n",
      "Weekday.Mon\n",
      "\n",
      "Sun => Weekday.Sun , 0\n",
      "Mon => Weekday.Mon , 1\n",
      "Tue => Weekday.Tue , 2\n",
      "Wed => Weekday.Wed , 3\n",
      "Thu => Weekday.Thu , 4\n",
      "Fri => Weekday.Fri , 5\n",
      "Sat => Weekday.Sat , 6\n"
     ]
    }
   ],
   "source": [
    "# in order to make a more concise enumeration class, we need to inheret from Enum\n",
    "from enum import Enum, unique\n",
    "\n",
    "# @unique control the uniqueness of the attributes\n",
    "@unique\n",
    "class Weekday(Enum):\n",
    "    # make Sun to number 0, and set to the first position\n",
    "    Sun = 0\n",
    "    Mon = 1\n",
    "    Tue = 2\n",
    "    Wed = 3\n",
    "    Thu = 4\n",
    "    Fri = 5\n",
    "    Sat = 6\n",
    "    \n",
    "# some useful applications\n",
    "day1 = Weekday.Mon\n",
    "print(day1)\n",
    "print(Weekday['Mon'])\n",
    "print(day1.value)\n",
    "print(Weekday(1))\n",
    "print('')\n",
    "\n",
    "# the sequence and the values are defined in the subclass\n",
    "for name, member in Weekday.__members__.items():\n",
    "    print(name, '=>', member, ',', member.value)"
   ]
  },
  {
   "cell_type": "markdown",
   "metadata": {},
   "source": [
    "# 11. Metaclass"
   ]
  },
  {
   "cell_type": "code",
   "execution_count": 37,
   "metadata": {},
   "outputs": [
    {
     "name": "stdout",
     "output_type": "stream",
     "text": [
      "Hello world.\n",
      "<class 'type'>\n",
      "<class 'hello.Hello'>\n"
     ]
    }
   ],
   "source": [
    "# let's first see the function type()\n",
    "from hello import Hello\n",
    "\"\"\"\n",
    "Contents in hello.py\n",
    "\n",
    "class Hello(object):\n",
    "    def hello(self, name='world'):\n",
    "        print('Hello %s.' % name)\n",
    "\"\"\"\n",
    "\n",
    "h = Hello()\n",
    "h.hello()\n",
    "\n",
    "print(type(Hello))\n",
    "print(type(h))"
   ]
  },
  {
   "cell_type": "code",
   "execution_count": 38,
   "metadata": {},
   "outputs": [
    {
     "name": "stdout",
     "output_type": "stream",
     "text": [
      "Hello world.\n",
      "I'm Jack.\n",
      "24\n"
     ]
    }
   ],
   "source": [
    "# type() can not only return the type of an object, but also create a class dynamically\n",
    "# for example, we can create a Hello class by the following codes\n",
    "def fn1(self, name='world'):\n",
    "    print('Hello %s.' % name)\n",
    "def fn2(self, name):\n",
    "    print('I\\'m %s.' % name)\n",
    "    \n",
    "\"\"\"\n",
    "type() arguments:\n",
    "name - name of the class\n",
    "bases - tuple of base classes\n",
    "dict - dictionary of methods\n",
    "\"\"\"\n",
    "Hello = type('Hello', (object,), dict(hello=fn1, intro=fn2, age=24))\n",
    "h = Hello()\n",
    "h.hello()\n",
    "h.intro('Jack')\n",
    "print(h.age)"
   ]
  },
  {
   "cell_type": "code",
   "execution_count": 39,
   "metadata": {},
   "outputs": [
    {
     "ename": "NameError",
     "evalue": "name 'MyList' is not defined",
     "output_type": "error",
     "traceback": [
      "\u001b[1;31m---------------------------------------------------------------------------\u001b[0m",
      "\u001b[1;31mNameError\u001b[0m                                 Traceback (most recent call last)",
      "\u001b[1;32m<ipython-input-39-e6b47caa65d4>\u001b[0m in \u001b[0;36m<module>\u001b[1;34m\u001b[0m\n\u001b[0;32m      9\u001b[0m     \u001b[1;32mpass\u001b[0m\u001b[1;33m\u001b[0m\u001b[1;33m\u001b[0m\u001b[0m\n\u001b[0;32m     10\u001b[0m \u001b[1;33m\u001b[0m\u001b[0m\n\u001b[1;32m---> 11\u001b[1;33m \u001b[0ml\u001b[0m \u001b[1;33m=\u001b[0m \u001b[0mMyList\u001b[0m\u001b[1;33m(\u001b[0m\u001b[1;33m[\u001b[0m\u001b[1;36m1\u001b[0m\u001b[1;33m,\u001b[0m \u001b[1;36m2\u001b[0m\u001b[1;33m,\u001b[0m \u001b[1;36m3\u001b[0m\u001b[1;33m]\u001b[0m\u001b[1;33m)\u001b[0m\u001b[1;33m\u001b[0m\u001b[1;33m\u001b[0m\u001b[0m\n\u001b[0m\u001b[0;32m     12\u001b[0m \u001b[0ml\u001b[0m\u001b[1;33m\u001b[0m\u001b[1;33m\u001b[0m\u001b[0m\n",
      "\u001b[1;31mNameError\u001b[0m: name 'MyList' is not defined"
     ]
    }
   ],
   "source": [
    "# metaclass application 1\n",
    "# create an user defined list\n",
    "class ListMetaclass(type):\n",
    "    def __new__(cls, name, bases, attrs):\n",
    "        attrs['add'] = lambda self, value: self.append(value)\n",
    "        return type.__new__(cls, name, bases, attrs)\n",
    "    \n",
    "class MyDict(dict, metaclass=ListMetaclass):\n",
    "    pass\n",
    "\n",
    "l = MyList([1, 2, 3])\n",
    "l"
   ]
  },
  {
   "cell_type": "code",
   "execution_count": 40,
   "metadata": {},
   "outputs": [
    {
     "ename": "TypeError",
     "evalue": "bad user class",
     "output_type": "error",
     "traceback": [
      "\u001b[1;31m---------------------------------------------------------------------------\u001b[0m",
      "\u001b[1;31mTypeError\u001b[0m                                 Traceback (most recent call last)",
      "\u001b[1;32m<ipython-input-40-f5c5da140b33>\u001b[0m in \u001b[0;36m<module>\u001b[1;34m\u001b[0m\n\u001b[0;32m     12\u001b[0m         \u001b[1;32mreturn\u001b[0m \u001b[0mself\u001b[0m\u001b[1;33m.\u001b[0m\u001b[0mbar\u001b[0m\u001b[1;33m(\u001b[0m\u001b[1;33m)\u001b[0m\u001b[1;33m\u001b[0m\u001b[1;33m\u001b[0m\u001b[0m\n\u001b[0;32m     13\u001b[0m \u001b[1;33m\u001b[0m\u001b[0m\n\u001b[1;32m---> 14\u001b[1;33m \u001b[1;32mclass\u001b[0m \u001b[0mDerived\u001b[0m\u001b[1;33m(\u001b[0m\u001b[0mBase\u001b[0m\u001b[1;33m)\u001b[0m\u001b[1;33m:\u001b[0m\u001b[1;33m\u001b[0m\u001b[1;33m\u001b[0m\u001b[0m\n\u001b[0m\u001b[0;32m     15\u001b[0m     \u001b[1;31m# user derived class has no bar() here, which will be called in foo() of Base\u001b[0m\u001b[1;33m\u001b[0m\u001b[1;33m\u001b[0m\u001b[1;33m\u001b[0m\u001b[0m\n\u001b[0;32m     16\u001b[0m     \u001b[1;31m# so the error will be raised during the creation of this class\u001b[0m\u001b[1;33m\u001b[0m\u001b[1;33m\u001b[0m\u001b[1;33m\u001b[0m\u001b[0m\n",
      "\u001b[1;32m<ipython-input-40-f5c5da140b33>\u001b[0m in \u001b[0;36m__new__\u001b[1;34m(cls, name, bases, namespace, **kwargs)\u001b[0m\n\u001b[0;32m      5\u001b[0m     \u001b[1;32mdef\u001b[0m \u001b[0m__new__\u001b[0m\u001b[1;33m(\u001b[0m\u001b[0mcls\u001b[0m\u001b[1;33m,\u001b[0m \u001b[0mname\u001b[0m\u001b[1;33m,\u001b[0m \u001b[0mbases\u001b[0m\u001b[1;33m,\u001b[0m \u001b[0mnamespace\u001b[0m\u001b[1;33m,\u001b[0m \u001b[1;33m**\u001b[0m\u001b[0mkwargs\u001b[0m\u001b[1;33m)\u001b[0m\u001b[1;33m:\u001b[0m\u001b[1;33m\u001b[0m\u001b[1;33m\u001b[0m\u001b[0m\n\u001b[0;32m      6\u001b[0m         \u001b[1;32mif\u001b[0m \u001b[0mname\u001b[0m \u001b[1;33m!=\u001b[0m \u001b[1;34m'Base'\u001b[0m \u001b[1;32mand\u001b[0m \u001b[1;34m'bar'\u001b[0m \u001b[1;32mnot\u001b[0m \u001b[1;32min\u001b[0m \u001b[0mnamespace\u001b[0m\u001b[1;33m:\u001b[0m\u001b[1;33m\u001b[0m\u001b[1;33m\u001b[0m\u001b[0m\n\u001b[1;32m----> 7\u001b[1;33m             \u001b[1;32mraise\u001b[0m \u001b[0mTypeError\u001b[0m\u001b[1;33m(\u001b[0m\u001b[1;34m'bad user class'\u001b[0m\u001b[1;33m)\u001b[0m\u001b[1;33m\u001b[0m\u001b[1;33m\u001b[0m\u001b[0m\n\u001b[0m\u001b[0;32m      8\u001b[0m         \u001b[1;32mreturn\u001b[0m \u001b[0msuper\u001b[0m\u001b[1;33m(\u001b[0m\u001b[1;33m)\u001b[0m\u001b[1;33m.\u001b[0m\u001b[0m__new__\u001b[0m\u001b[1;33m(\u001b[0m\u001b[0mcls\u001b[0m\u001b[1;33m,\u001b[0m \u001b[0mname\u001b[0m\u001b[1;33m,\u001b[0m \u001b[0mbases\u001b[0m\u001b[1;33m,\u001b[0m \u001b[0mnamespace\u001b[0m\u001b[1;33m,\u001b[0m \u001b[1;33m**\u001b[0m\u001b[0mkwargs\u001b[0m\u001b[1;33m)\u001b[0m\u001b[1;33m\u001b[0m\u001b[1;33m\u001b[0m\u001b[0m\n\u001b[0;32m      9\u001b[0m \u001b[1;33m\u001b[0m\u001b[0m\n",
      "\u001b[1;31mTypeError\u001b[0m: bad user class"
     ]
    }
   ],
   "source": [
    "# metaclass application 2\n",
    "# restrict the certain conditions when users write code\n",
    "class Meta(type):\n",
    "    # add new contents into __new__() method of type\n",
    "    def __new__(cls, name, bases, namespace, **kwargs):\n",
    "        if name != 'Base' and 'bar' not in namespace:\n",
    "            raise TypeError('bad user class')\n",
    "        return super().__new__(cls, name, bases, namespace, **kwargs)\n",
    "    \n",
    "class Base(object, metaclass=Meta):\n",
    "    def foo(self):\n",
    "        return self.bar()\n",
    "    \n",
    "class Derived(Base):\n",
    "    # user derived class has no bar() here, which will be called in foo() of Base\n",
    "    # so the error will be raised during the creation of this class\n",
    "    pass"
   ]
  },
  {
   "cell_type": "code",
   "execution_count": 41,
   "metadata": {},
   "outputs": [
    {
     "data": {
      "text/plain": [
       "{'apple': __main__.Apple, 'orange': __main__.Orange}"
      ]
     },
     "execution_count": 41,
     "metadata": {},
     "output_type": "execute_result"
    }
   ],
   "source": [
    "# metaclass example 3\n",
    "# return all the registory subclasses of the base class\n",
    "class Meta(type):\n",
    "    def __init__(cls, name, bases, namespace, **kwargs):\n",
    "        super().__init__(name, bases, namespace, **kwargs)\n",
    "        if not hasattr(cls, 'registory'):\n",
    "            # this is the base class\n",
    "            cls.registory = {}\n",
    "        else:\n",
    "            # this is the subclass\n",
    "            cls.registory[name.lower()] = cls\n",
    "            \n",
    "class Fruit(object, metaclass=Meta):\n",
    "    pass\n",
    "\n",
    "class Apple(Fruit):\n",
    "    pass\n",
    "\n",
    "class Orange(Fruit):\n",
    "    pass\n",
    "\n",
    "Fruit.registory"
   ]
  }
 ],
 "metadata": {
  "kernelspec": {
   "display_name": "Python 3",
   "language": "python",
   "name": "python3"
  },
  "language_info": {
   "codemirror_mode": {
    "name": "ipython",
    "version": 3
   },
   "file_extension": ".py",
   "mimetype": "text/x-python",
   "name": "python",
   "nbconvert_exporter": "python",
   "pygments_lexer": "ipython3",
   "version": "3.7.3"
  }
 },
 "nbformat": 4,
 "nbformat_minor": 2
}
