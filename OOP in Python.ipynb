{
 "cells": [
  {
   "cell_type": "markdown",
   "metadata": {},
   "source": [
    "# 1. Class and Instance"
   ]
  },
  {
   "cell_type": "code",
   "execution_count": 1,
   "metadata": {},
   "outputs": [
    {
     "data": {
      "text/plain": [
       "<__main__.Student at 0x1a9d3412a58>"
      ]
     },
     "execution_count": 1,
     "metadata": {},
     "output_type": "execute_result"
    }
   ],
   "source": [
    "# create a class of Student, default inhereted from \"object\"\n",
    "class Student(object):\n",
    "    pass\n",
    "\n",
    "# create an instance\n",
    "bart = Student()\n",
    "bart"
   ]
  },
  {
   "cell_type": "code",
   "execution_count": 2,
   "metadata": {},
   "outputs": [
    {
     "data": {
      "text/plain": [
       "'Jack'"
      ]
     },
     "execution_count": 2,
     "metadata": {},
     "output_type": "execute_result"
    }
   ],
   "source": [
    "# attributes can be freely added to an instance\n",
    "bart.name = \"Jack\"\n",
    "bart.name"
   ]
  },
  {
   "cell_type": "code",
   "execution_count": 3,
   "metadata": {},
   "outputs": [
    {
     "name": "stdout",
     "output_type": "stream",
     "text": [
      "Jack\n",
      "100\n"
     ]
    }
   ],
   "source": [
    "# add __init__ function/method to class\n",
    "class Student(object):\n",
    "    # the first argument of methods in a class is always 'self'\n",
    "    def __init__(self, name, score):\n",
    "        self.name = name\n",
    "        self.score = score\n",
    "        \n",
    "# create an instance with parameters\n",
    "bart = Student('Jack', 100)\n",
    "print(bart.name)\n",
    "print(bart.score)"
   ]
  },
  {
   "cell_type": "code",
   "execution_count": 4,
   "metadata": {},
   "outputs": [
    {
     "name": "stdout",
     "output_type": "stream",
     "text": [
      "Jack: 100\n"
     ]
    }
   ],
   "source": [
    "# add print_score method to class\n",
    "class Student(object):\n",
    "    def __init__(self, name, score):\n",
    "        self.name = name\n",
    "        self.score = score\n",
    "        \n",
    "    def print_score(self):\n",
    "        print(\"%s: %s\" % (self.name, self.score))\n",
    "   \n",
    "bart = Student('Jack', 100)\n",
    "bart.print_score()"
   ]
  },
  {
   "cell_type": "markdown",
   "metadata": {},
   "source": [
    "# 2. Visit Restriction"
   ]
  },
  {
   "cell_type": "code",
   "execution_count": 5,
   "metadata": {},
   "outputs": [
    {
     "name": "stdout",
     "output_type": "stream",
     "text": [
      "bart has no '__name' !\n"
     ]
    }
   ],
   "source": [
    "# add two '_' before an attribute name to make it private\n",
    "# __name is actually changed to _Student__name\n",
    "# in this case the attributes cannot be easily got/changed\n",
    "class Student(object):\n",
    "    def __init__(self, name, score):\n",
    "        self.__name = name\n",
    "        self.__score = score\n",
    "        \n",
    "    def print_score(self):\n",
    "        print(\"%s: %s\" % (self.name, self.score))\n",
    "        \n",
    "# return error when visit the values of private attributes\n",
    "bart = Student(\"Jack\", 100)\n",
    "try:\n",
    "    bart.__name\n",
    "except:\n",
    "    print('bart has no \\'__name\\' !')"
   ]
  },
  {
   "cell_type": "code",
   "execution_count": 6,
   "metadata": {},
   "outputs": [
    {
     "name": "stdout",
     "output_type": "stream",
     "text": [
      "98\n"
     ]
    },
    {
     "ename": "ValueError",
     "evalue": "bad score",
     "output_type": "error",
     "traceback": [
      "\u001b[1;31m---------------------------------------------------------------------------\u001b[0m",
      "\u001b[1;31mValueError\u001b[0m                                Traceback (most recent call last)",
      "\u001b[1;32m<ipython-input-6-0df118806660>\u001b[0m in \u001b[0;36m<module>\u001b[1;34m\u001b[0m\n\u001b[0;32m     29\u001b[0m \u001b[1;33m\u001b[0m\u001b[0m\n\u001b[0;32m     30\u001b[0m \u001b[1;31m# raise error when input an invalid value\u001b[0m\u001b[1;33m\u001b[0m\u001b[1;33m\u001b[0m\u001b[1;33m\u001b[0m\u001b[0m\n\u001b[1;32m---> 31\u001b[1;33m \u001b[0mbart\u001b[0m\u001b[1;33m.\u001b[0m\u001b[0mset_score\u001b[0m\u001b[1;33m(\u001b[0m\u001b[1;33m-\u001b[0m\u001b[1;36m2\u001b[0m\u001b[1;33m)\u001b[0m\u001b[1;33m\u001b[0m\u001b[1;33m\u001b[0m\u001b[0m\n\u001b[0m",
      "\u001b[1;32m<ipython-input-6-0df118806660>\u001b[0m in \u001b[0;36mset_score\u001b[1;34m(self, score)\u001b[0m\n\u001b[0;32m     19\u001b[0m             \u001b[0mself\u001b[0m\u001b[1;33m.\u001b[0m\u001b[0m__score\u001b[0m \u001b[1;33m=\u001b[0m \u001b[0mscore\u001b[0m\u001b[1;33m\u001b[0m\u001b[1;33m\u001b[0m\u001b[0m\n\u001b[0;32m     20\u001b[0m         \u001b[1;32melse\u001b[0m\u001b[1;33m:\u001b[0m\u001b[1;33m\u001b[0m\u001b[1;33m\u001b[0m\u001b[0m\n\u001b[1;32m---> 21\u001b[1;33m             \u001b[1;32mraise\u001b[0m \u001b[0mValueError\u001b[0m\u001b[1;33m(\u001b[0m\u001b[1;34m'bad score'\u001b[0m\u001b[1;33m)\u001b[0m\u001b[1;33m\u001b[0m\u001b[1;33m\u001b[0m\u001b[0m\n\u001b[0m\u001b[0;32m     22\u001b[0m \u001b[1;33m\u001b[0m\u001b[0m\n\u001b[0;32m     23\u001b[0m     \u001b[1;32mdef\u001b[0m \u001b[0mprint_score\u001b[0m\u001b[1;33m(\u001b[0m\u001b[0mself\u001b[0m\u001b[1;33m)\u001b[0m\u001b[1;33m:\u001b[0m\u001b[1;33m\u001b[0m\u001b[1;33m\u001b[0m\u001b[0m\n",
      "\u001b[1;31mValueError\u001b[0m: bad score"
     ]
    }
   ],
   "source": [
    "# use get and set to visit the private attributes\n",
    "class Student(object):\n",
    "    def __init__(self, name, score):\n",
    "        self.__name = name\n",
    "        self.__score = score\n",
    "        \n",
    "    def get_name(self):\n",
    "        return self.__name\n",
    "    \n",
    "    def get_score(self):\n",
    "        return self.__score\n",
    "    \n",
    "    def set_name(self, name):\n",
    "        self.__name = name\n",
    "        \n",
    "    # raise error when input an invalid value, increase code safety\n",
    "    def set_score(self, score):\n",
    "        if score >= 0 and score <= 100:\n",
    "            self.__score = score\n",
    "        else:\n",
    "            raise ValueError('bad score')\n",
    "        \n",
    "    def print_score(self):\n",
    "        print(\"%s: %s\" % (self.name, self.score))\n",
    "        \n",
    "bart = Student(\"Jack\", 100)\n",
    "bart.set_score(98)\n",
    "print(bart.get_score())\n",
    "\n",
    "# raise error when input an invalid value\n",
    "bart.set_score(-2)"
   ]
  },
  {
   "cell_type": "code",
   "execution_count": 7,
   "metadata": {},
   "outputs": [
    {
     "data": {
      "text/plain": [
       "'Jack'"
      ]
     },
     "execution_count": 7,
     "metadata": {},
     "output_type": "execute_result"
    }
   ],
   "source": [
    "# when see an attribue name with one '_' ahead,\n",
    "# this means this attribute can be visited,\n",
    "# but please treat me as private\n",
    "\n",
    "# acctually we can still visit the private attribute,\n",
    "# but DO NOT do this\n",
    "bart._Student__name"
   ]
  },
  {
   "cell_type": "markdown",
   "metadata": {},
   "source": [
    "# 3. Inheritance and Polymorphism"
   ]
  },
  {
   "cell_type": "code",
   "execution_count": 8,
   "metadata": {},
   "outputs": [
    {
     "name": "stdout",
     "output_type": "stream",
     "text": [
      "running ...\n"
     ]
    }
   ],
   "source": [
    "# create a super class\n",
    "class Animal(object):\n",
    "    def run(self):\n",
    "        print('running ...')\n",
    "        \n",
    "# create a subclass\n",
    "class Dog(Animal):\n",
    "    pass\n",
    "\n",
    "# a subclass can be inhereted from the super class\n",
    "little_dog = Dog()\n",
    "little_dog.run()"
   ]
  },
  {
   "cell_type": "code",
   "execution_count": 9,
   "metadata": {},
   "outputs": [
    {
     "name": "stdout",
     "output_type": "stream",
     "text": [
      "Dog running ...\n"
     ]
    }
   ],
   "source": [
    "# methods in subclass can cover methods in super class\n",
    "class Dog(Animal):\n",
    "    def run(self):\n",
    "        print('Dog running ...')\n",
    "        \n",
    "little_dog = Dog()\n",
    "little_dog.run()"
   ]
  },
  {
   "cell_type": "code",
   "execution_count": 10,
   "metadata": {},
   "outputs": [
    {
     "name": "stdout",
     "output_type": "stream",
     "text": [
      "True\n",
      "True\n"
     ]
    }
   ],
   "source": [
    "# use 'isinstance' to make a type decision\n",
    "little_dog = Dog()\n",
    "print(isinstance(little_dog, Dog))\n",
    "\n",
    "# a Dog class is also an Animal class\n",
    "print(isinstance(little_dog, Animal))"
   ]
  },
  {
   "cell_type": "code",
   "execution_count": 11,
   "metadata": {},
   "outputs": [
    {
     "name": "stdout",
     "output_type": "stream",
     "text": [
      "Dog running ...\n",
      "Dog running ...\n",
      "Cat running ...\n",
      "Cat running ...\n"
     ]
    }
   ],
   "source": [
    "# the advantage of polymorphism:\n",
    "# we don't need to change the base function\n",
    "def run_twice(animal):\n",
    "    animal.run()\n",
    "    animal.run()\n",
    "\n",
    "run_twice(Dog())\n",
    "\n",
    "# create a new class\n",
    "class Cat(Animal):\n",
    "    def run(self):\n",
    "        print('Cat running ...')\n",
    "\n",
    "# the function still works\n",
    "run_twice(Cat())"
   ]
  },
  {
   "cell_type": "code",
   "execution_count": 12,
   "metadata": {},
   "outputs": [
    {
     "name": "stdout",
     "output_type": "stream",
     "text": [
      "Timer running ...\n",
      "Timer running ...\n"
     ]
    }
   ],
   "source": [
    "# because Python is a dynamic language,\n",
    "# we can use the function to a class which is not inhereted from Animal\n",
    "class Timer(object):\n",
    "    def run(self):\n",
    "        print('Timer running ...')\n",
    "        \n",
    "run_twice(Timer())"
   ]
  },
  {
   "cell_type": "markdown",
   "metadata": {},
   "source": [
    "# 4. Get Object Information"
   ]
  },
  {
   "cell_type": "code",
   "execution_count": 13,
   "metadata": {},
   "outputs": [
    {
     "name": "stdout",
     "output_type": "stream",
     "text": [
      "<class 'type'>\n",
      "<class '__main__.Animal'>\n"
     ]
    }
   ],
   "source": [
    "# use type() to check the tpye\n",
    "print(type(Animal))\n",
    "print(type(Animal()))"
   ]
  },
  {
   "cell_type": "code",
   "execution_count": 14,
   "metadata": {},
   "outputs": [
    {
     "name": "stdout",
     "output_type": "stream",
     "text": [
      "True\n",
      "True\n",
      "True\n",
      "True\n"
     ]
    }
   ],
   "source": [
    "# use package 'types' to check whether an object is a certain type of function\n",
    "import types\n",
    "def foo():\n",
    "    pass\n",
    "\n",
    "print(type(foo) == types.FunctionType)\n",
    "print(type(abs) == types.BuiltinFunctionType)\n",
    "print(type(lambda x: x) == types.LambdaType)\n",
    "print(type((x for x in range(10))) == types.GeneratorType)"
   ]
  },
  {
   "cell_type": "code",
   "execution_count": 15,
   "metadata": {},
   "outputs": [
    {
     "name": "stdout",
     "output_type": "stream",
     "text": [
      "True\n",
      "True\n",
      "False\n"
     ]
    }
   ],
   "source": [
    "# use isinstance() to check the certain type of a class\n",
    "# type() cannot do this\n",
    "print(isinstance(Dog(), Dog))\n",
    "print(isinstance(Dog(), Animal))\n",
    "print(isinstance(Animal(), Dog))"
   ]
  },
  {
   "cell_type": "code",
   "execution_count": 16,
   "metadata": {},
   "outputs": [
    {
     "data": {
      "text/plain": [
       "True"
      ]
     },
     "execution_count": 16,
     "metadata": {},
     "output_type": "execute_result"
    }
   ],
   "source": [
    "# or use instance() to check whether a class belong to one of the options\n",
    "isinstance(Cat(), (Dog, Cat, Animal))"
   ]
  },
  {
   "cell_type": "code",
   "execution_count": 17,
   "metadata": {},
   "outputs": [
    {
     "data": {
      "text/plain": [
       "['__class__',\n",
       " '__delattr__',\n",
       " '__dict__',\n",
       " '__dir__',\n",
       " '__doc__',\n",
       " '__eq__',\n",
       " '__format__',\n",
       " '__ge__',\n",
       " '__getattribute__',\n",
       " '__gt__',\n",
       " '__hash__',\n",
       " '__init__',\n",
       " '__init_subclass__',\n",
       " '__le__',\n",
       " '__lt__',\n",
       " '__module__',\n",
       " '__ne__',\n",
       " '__new__',\n",
       " '__reduce__',\n",
       " '__reduce_ex__',\n",
       " '__repr__',\n",
       " '__setattr__',\n",
       " '__sizeof__',\n",
       " '__str__',\n",
       " '__subclasshook__',\n",
       " '__weakref__',\n",
       " 'run']"
      ]
     },
     "execution_count": 17,
     "metadata": {},
     "output_type": "execute_result"
    }
   ],
   "source": [
    "# use dir() to acquire all the attributes and mthods of an object\n",
    "dir(Dog())\n",
    "\n",
    "# all attribtes with two '_' ahead and at the end can be visited\n",
    "# they are special attributes"
   ]
  },
  {
   "cell_type": "code",
   "execution_count": 18,
   "metadata": {},
   "outputs": [
    {
     "name": "stdout",
     "output_type": "stream",
     "text": [
      "True\n",
      "9\n",
      "False\n",
      "19\n",
      "\n",
      "True\n",
      "<bound method MyObject.double of <__main__.MyObject object at 0x000001A9D3489978>>\n",
      "<bound method MyObject.double of <__main__.MyObject object at 0x000001A9D3489978>>\n",
      "18\n"
     ]
    }
   ],
   "source": [
    "# ues getattr(), setattr(), hasattr() to get/set/decide the attribute\n",
    "class MyObject(object):\n",
    "    def __init__(self):\n",
    "        self.x = 9\n",
    "        self.__multiplier = 2\n",
    "    \n",
    "    def double(self):\n",
    "        return self.x * self.__multiplier\n",
    "    \n",
    "obj = MyObject()\n",
    "\n",
    "# test of hasattr()\n",
    "# when we know the attribute, directly use obj.attr\n",
    "# hasattr() can be used as a decision condition\n",
    "print(hasattr(obj, 'x'))\n",
    "print(obj.x)\n",
    "print(hasattr(obj, 'y'))\n",
    "setattr(obj, 'y', 19)\n",
    "print(obj.y)\n",
    "print('')\n",
    "\n",
    "print(hasattr(obj, 'double'))\n",
    "print(getattr(obj, 'double'))\n",
    "# fn points to obj.double, so fn() can be called\n",
    "fn = getattr(obj, 'double')\n",
    "print(fn)\n",
    "print(fn())"
   ]
  },
  {
   "cell_type": "code",
   "execution_count": 19,
   "metadata": {},
   "outputs": [
    {
     "name": "stdout",
     "output_type": "stream",
     "text": [
      "obj has no '__multiplier' !\n"
     ]
    }
   ],
   "source": [
    "# again, a private attribute cannot be visited\n",
    "# because it has been changed to _MyObject__multiplier\n",
    "try:\n",
    "    print(getattr(obj, '__multiplier'))\n",
    "except:\n",
    "    print(\"obj has no \\'__multiplier\\' !\")"
   ]
  },
  {
   "cell_type": "code",
   "execution_count": 20,
   "metadata": {},
   "outputs": [
    {
     "data": {
      "text/plain": [
       "404"
      ]
     },
     "execution_count": 20,
     "metadata": {},
     "output_type": "execute_result"
    }
   ],
   "source": [
    "# set a default value to return, when come across with an attribute which is not exist\n",
    "getattr(obj, 'k', 404)"
   ]
  },
  {
   "cell_type": "markdown",
   "metadata": {},
   "source": [
    "# 5. Instance Attibutes and Class Attributes"
   ]
  },
  {
   "cell_type": "code",
   "execution_count": 21,
   "metadata": {},
   "outputs": [
    {
     "name": "stdout",
     "output_type": "stream",
     "text": [
      "jack\n",
      "Student\n",
      "\n",
      "Student\n"
     ]
    }
   ],
   "source": [
    "class Student(object):\n",
    "    name = 'Student' # class attribute\n",
    "    def __init__(self):\n",
    "        self.name = 'jack' # instance attribute\n",
    "        \n",
    "jack = Student()\n",
    "print(jack.name)\n",
    "print(Student.name)\n",
    "print('')\n",
    "\n",
    "# when instance attribute doesn't exit,\n",
    "# the interpreter will search for the class attribute\n",
    "# so don't set the same attributes name for both class and instance\n",
    "del jack.name\n",
    "print(jack.name)"
   ]
  },
  {
   "cell_type": "markdown",
   "metadata": {},
   "source": [
    "# 6. slots"
   ]
  },
  {
   "cell_type": "code",
   "execution_count": 22,
   "metadata": {},
   "outputs": [
    {
     "name": "stdout",
     "output_type": "stream",
     "text": [
      "jack is 24 years old.\n",
      "adding a score is not allowed!\n"
     ]
    }
   ],
   "source": [
    "# use __slots__ to restrict the attributes\n",
    "class Student(object):\n",
    "    # use tuple to set the allowed attribtes\n",
    "    __slots__ = ('name', 'age')\n",
    "    \n",
    "s = Student()\n",
    "s.name = 'jack'\n",
    "s.age = 24\n",
    "print(\"%s is %s years old.\" % (s.name, s.age))\n",
    "\n",
    "# raise error when an not allowed attribute is added\n",
    "try:\n",
    "    s.score = 100\n",
    "except:\n",
    "    print(\"adding a score is not allowed!\")"
   ]
  },
  {
   "cell_type": "code",
   "execution_count": 23,
   "metadata": {},
   "outputs": [
    {
     "name": "stdout",
     "output_type": "stream",
     "text": [
      "100\n",
      "adding a score is not allowed!\n"
     ]
    }
   ],
   "source": [
    "# __slots__ is only valid for current object, not valid for subclass\n",
    "class GraduateStudent(Student):\n",
    "    pass\n",
    "\n",
    "g = GraduateStudent()\n",
    "g.score = 100\n",
    "print(g.score)\n",
    "\n",
    "# but when __slots__ exist in a subclass, then it contains the __slots__ of it's super class\n",
    "class TestStudent(Student):\n",
    "    __slots__ = ('gender')\n",
    "    \n",
    "t = TestStudent()\n",
    "try:\n",
    "    t.score = 100\n",
    "    print(t.score)\n",
    "except:\n",
    "    print(\"adding a score is not allowed!\")"
   ]
  },
  {
   "cell_type": "markdown",
   "metadata": {},
   "source": [
    "# 7. @property"
   ]
  },
  {
   "cell_type": "code",
   "execution_count": 24,
   "metadata": {},
   "outputs": [
    {
     "name": "stdout",
     "output_type": "stream",
     "text": [
      "60\n"
     ]
    },
    {
     "ename": "ValueError",
     "evalue": "score must between 0-100!",
     "output_type": "error",
     "traceback": [
      "\u001b[1;31m---------------------------------------------------------------------------\u001b[0m",
      "\u001b[1;31mValueError\u001b[0m                                Traceback (most recent call last)",
      "\u001b[1;32m<ipython-input-24-d9451859cd6b>\u001b[0m in \u001b[0;36m<module>\u001b[1;34m\u001b[0m\n\u001b[0;32m     19\u001b[0m \u001b[0mprint\u001b[0m\u001b[1;33m(\u001b[0m\u001b[0ms\u001b[0m\u001b[1;33m.\u001b[0m\u001b[0mscore\u001b[0m\u001b[1;33m)\u001b[0m\u001b[1;33m\u001b[0m\u001b[1;33m\u001b[0m\u001b[0m\n\u001b[0;32m     20\u001b[0m \u001b[1;33m\u001b[0m\u001b[0m\n\u001b[1;32m---> 21\u001b[1;33m \u001b[0ms\u001b[0m\u001b[1;33m.\u001b[0m\u001b[0mscore\u001b[0m \u001b[1;33m=\u001b[0m \u001b[1;36m999\u001b[0m\u001b[1;33m\u001b[0m\u001b[1;33m\u001b[0m\u001b[0m\n\u001b[0m",
      "\u001b[1;32m<ipython-input-24-d9451859cd6b>\u001b[0m in \u001b[0;36mscore\u001b[1;34m(self, value)\u001b[0m\n\u001b[0;32m     12\u001b[0m             \u001b[1;32mraise\u001b[0m \u001b[0mValueError\u001b[0m\u001b[1;33m(\u001b[0m\u001b[1;34m'score must be an integer!'\u001b[0m\u001b[1;33m)\u001b[0m\u001b[1;33m\u001b[0m\u001b[1;33m\u001b[0m\u001b[0m\n\u001b[0;32m     13\u001b[0m         \u001b[1;32mif\u001b[0m \u001b[0mvalue\u001b[0m \u001b[1;33m<\u001b[0m \u001b[1;36m0\u001b[0m \u001b[1;32mor\u001b[0m \u001b[0mvalue\u001b[0m \u001b[1;33m>\u001b[0m \u001b[1;36m100\u001b[0m\u001b[1;33m:\u001b[0m\u001b[1;33m\u001b[0m\u001b[1;33m\u001b[0m\u001b[0m\n\u001b[1;32m---> 14\u001b[1;33m             \u001b[1;32mraise\u001b[0m \u001b[0mValueError\u001b[0m\u001b[1;33m(\u001b[0m\u001b[1;34m'score must between 0-100!'\u001b[0m\u001b[1;33m)\u001b[0m\u001b[1;33m\u001b[0m\u001b[1;33m\u001b[0m\u001b[0m\n\u001b[0m\u001b[0;32m     15\u001b[0m         \u001b[0mself\u001b[0m\u001b[1;33m.\u001b[0m\u001b[0m_score\u001b[0m \u001b[1;33m=\u001b[0m \u001b[0mvalue\u001b[0m\u001b[1;33m\u001b[0m\u001b[1;33m\u001b[0m\u001b[0m\n\u001b[0;32m     16\u001b[0m \u001b[1;33m\u001b[0m\u001b[0m\n",
      "\u001b[1;31mValueError\u001b[0m: score must between 0-100!"
     ]
    }
   ],
   "source": [
    "# use @property decorator to make a method into an attribue\n",
    "class Student(object):\n",
    "    # method \"getter\" can be easily decorated as an attribute using @property\n",
    "    @property\n",
    "    def score(self):\n",
    "        return self._score\n",
    "    \n",
    "    # meanwhile @property creates another decorator @score.setter\n",
    "    @score.setter\n",
    "    def score(self, value):\n",
    "        if not isinstance(value, int):\n",
    "            raise ValueError('score must be an integer!')\n",
    "        if value < 0 or value > 100:\n",
    "            raise ValueError('score must between 0-100!')\n",
    "        self._score = value\n",
    "        \n",
    "s = Student()\n",
    "s.score = 60\n",
    "print(s.score)\n",
    "\n",
    "s.score = 999"
   ]
  },
  {
   "cell_type": "code",
   "execution_count": 25,
   "metadata": {},
   "outputs": [
    {
     "data": {
      "text/plain": [
       "24"
      ]
     },
     "execution_count": 25,
     "metadata": {},
     "output_type": "execute_result"
    }
   ],
   "source": [
    "# define a readonly attribute when only method \"getter\" is defined\n",
    "class Student(object):\n",
    "    @property\n",
    "    def birth(self):\n",
    "        return self._birth\n",
    "    \n",
    "    @birth.setter\n",
    "    def birth(self, value):\n",
    "        self._birth = value\n",
    "        \n",
    "    # readonly attribute/property\n",
    "    @property\n",
    "    def age(self):\n",
    "        return 2019 - self._birth\n",
    "    \n",
    "s = Student()\n",
    "s.birth = 1995\n",
    "s.age"
   ]
  },
  {
   "cell_type": "code",
   "execution_count": 26,
   "metadata": {},
   "outputs": [
    {
     "name": "stdout",
     "output_type": "stream",
     "text": [
      "Width: 1920 \n",
      "Height: 1080 \n",
      "Resolution: 2073600 \n"
     ]
    }
   ],
   "source": [
    "# small project:\n",
    "# create a class \"Screen\" with attributes \"width\" and \"height\" and a readonly attribute \"resolution\"\n",
    "class Screen(object):    \n",
    "    '''Attributes'''\n",
    "    @property\n",
    "    def width(self):\n",
    "        return self._width\n",
    "    @width.setter\n",
    "    def width(self, value):\n",
    "        self.__ValueDetection(value)\n",
    "        self._width = value\n",
    "        \n",
    "    @property\n",
    "    def height(self):\n",
    "        return self._height\n",
    "    @height.setter\n",
    "    def height(self, value):\n",
    "        self.__ValueDetection(value)\n",
    "        self._height = value\n",
    "    \n",
    "    # readonly resolution\n",
    "    @property\n",
    "    def resolution(self):\n",
    "        self._resolution = self._width * self._height\n",
    "        return self._resolution\n",
    "    \n",
    "    '''Methods'''\n",
    "    def __init__(self, width, height):\n",
    "        self.__ValueDetection(width, height)\n",
    "        self._width = width\n",
    "        self._height = height\n",
    "        \n",
    "    def DisplayProperties(self):\n",
    "        print(\"Width: %s \\nHeight: %s \\nResolution: %s \" % (self._width, self._height, self.resolution))\n",
    "        \n",
    "    def __ValueDetection(self, *value):\n",
    "        for v in value:\n",
    "            if v < 0:\n",
    "                raise ValueError(\"value must be positive!\")\n",
    "            if not isinstance(v, int):\n",
    "                raise ValueError(\"value must be integer!\")\n",
    "                \n",
    "        \n",
    "s = Screen(1920, 1080)\n",
    "s.DisplayProperties()"
   ]
  },
  {
   "cell_type": "markdown",
   "metadata": {},
   "source": [
    "# 8. Multiple Inheritance"
   ]
  },
  {
   "cell_type": "markdown",
   "metadata": {},
   "source": [
    "# 9. Customize Class"
   ]
  },
  {
   "cell_type": "markdown",
   "metadata": {},
   "source": [
    "# 10. Enumerate Class"
   ]
  },
  {
   "cell_type": "markdown",
   "metadata": {},
   "source": [
    "# 11. Metaclass"
   ]
  }
 ],
 "metadata": {
  "kernelspec": {
   "display_name": "Python 3",
   "language": "python",
   "name": "python3"
  },
  "language_info": {
   "codemirror_mode": {
    "name": "ipython",
    "version": 3
   },
   "file_extension": ".py",
   "mimetype": "text/x-python",
   "name": "python",
   "nbconvert_exporter": "python",
   "pygments_lexer": "ipython3",
   "version": "3.7.1"
  }
 },
 "nbformat": 4,
 "nbformat_minor": 2
}
